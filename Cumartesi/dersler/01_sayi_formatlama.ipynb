{
 "cells": [
  {
   "cell_type": "markdown",
   "metadata": {},
   "source": [
    "Ondalıklı yani float sayılarda noktadan sonra kaç tane sayı göstermek istediğimizi belirleyebiliriz.\n",
    "Bunun için float sayıdan sonra :.<sayi>f formatında yapabiliriz.\n",
    "Örnek: 3.1234:.2f"
   ]
  },
  {
   "cell_type": "code",
   "execution_count": 11,
   "metadata": {},
   "outputs": [
    {
     "name": "stdout",
     "output_type": "stream",
     "text": [
      "sayi1:  3.14\n",
      "pi:  3.142857142857143\n",
      "Pi sayisi: 3.143\n"
     ]
    }
   ],
   "source": [
    "sayi1 = 3.14\n",
    "pi = 22/7\n",
    "\n",
    "print(\"sayi1: \", sayi1)\n",
    "print(\"pi: \", pi)\n",
    "\n",
    "print(f\"Pi sayisi: {pi:.3f}\")"
   ]
  }
 ],
 "metadata": {
  "kernelspec": {
   "display_name": "Python 3",
   "language": "python",
   "name": "python3"
  },
  "language_info": {
   "codemirror_mode": {
    "name": "ipython",
    "version": 3
   },
   "file_extension": ".py",
   "mimetype": "text/x-python",
   "name": "python",
   "nbconvert_exporter": "python",
   "pygments_lexer": "ipython3",
   "version": "3.10.15"
  }
 },
 "nbformat": 4,
 "nbformat_minor": 2
}
