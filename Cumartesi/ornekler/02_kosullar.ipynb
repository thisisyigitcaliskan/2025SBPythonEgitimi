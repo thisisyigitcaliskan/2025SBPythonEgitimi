{
 "cells": [
  {
   "cell_type": "markdown",
   "metadata": {},
   "source": [
    "### Soru 1\n",
    "\n",
    "Kullanıcıdan girilen bir sayının çift mi yoksa tek mi olduğunu kontrol eden ve ekrana **‘çift’** veya **‘tek’** yazan kodu yazınız.\n"
   ]
  },
  {
   "cell_type": "code",
   "execution_count": 2,
   "metadata": {},
   "outputs": [
    {
     "name": "stdout",
     "output_type": "stream",
     "text": [
      "Girdiğiniz sayı tek sayıdır.\n"
     ]
    }
   ],
   "source": [
    "sayi = input(\"Bir sayı giriniz: \")\n",
    "sayi = int(sayi)\n",
    "\n",
    "if sayi % 2 != 0:\n",
    "    print(\"Girdiğiniz sayı tek sayıdır.\")\n",
    "else:\n",
    "    print(\"Girdiğiniz sayı çift sayıdır.\")\n"
   ]
  },
  {
   "cell_type": "markdown",
   "metadata": {},
   "source": [
    "### Soru 2\n",
    "\n",
    "Kullanıcıdan girilen bir sayının pozitif, negatif mi yoksa sıfır mı olduğunu kontrol eden ve bunu ekrana **‘pozitif’, ‘negatif’ veya ‘sıfır’** yazan kodu yazınız"
   ]
  },
  {
   "cell_type": "code",
   "execution_count": 8,
   "metadata": {},
   "outputs": [
    {
     "name": "stdout",
     "output_type": "stream",
     "text": [
      "Girdiğiniz sayı pozitif.\n"
     ]
    }
   ],
   "source": [
    "sayi = input(\"Bir sayı giriniz: \")\n",
    "sayi = int(sayi)\n",
    "\n",
    "if sayi > 0:\n",
    "    print(\"Girdiğiniz sayı pozitif.\")\n",
    "elif sayi < 0:\n",
    "    print(\"Girdiğiniz sayı negatif.\")\n",
    "else:\n",
    "    print(\"Girdiğiniz sayı sıfır.\")"
   ]
  },
  {
   "cell_type": "markdown",
   "metadata": {},
   "source": [
    "### Soru 3\n",
    "\n",
    "Kullanıcıdan girilen iki sayı içerisinde büyük olanı ekrana yazan kodu yazınız."
   ]
  },
  {
   "cell_type": "code",
   "execution_count": 13,
   "metadata": {},
   "outputs": [
    {
     "name": "stdout",
     "output_type": "stream",
     "text": [
      "Eşitler. Sayımız da:  5\n"
     ]
    }
   ],
   "source": [
    "sayi1 = input(\"Bir sayı giriniz: \")\n",
    "sayi1 = int(sayi1)\n",
    "\n",
    "sayi2 = input(\"İkinci sayıyı giriniz: \")\n",
    "sayi2 = int(sayi2)\n",
    "\n",
    "if sayi1 > sayi2:\n",
    "    print(sayi1)\n",
    "elif sayi2 > sayi1:\n",
    "    print(sayi2)\n",
    "else:\n",
    "    print(\"Eşitler. Sayımız da: \", sayi1)"
   ]
  },
  {
   "cell_type": "markdown",
   "metadata": {},
   "source": [
    "### Soru 3\n",
    "\n",
    "Bir uygulamaya giriş mantığını düşünerek bir algoritma yazınız. \n",
    "\n",
    "Varsayılan kullanıcı adı **'root'** ve şifre **'gizlisifre'** olsun. \n",
    "\n",
    "Kullanıcıdan girilen kullanıcı adı ve şifreyi kontrol edin. \n",
    "\n",
    "Eğer girilen bilgiler doğruysa **'Giriş başarılı'**, yanlışsa **'Giriş başarısız'** yazınız.\n"
   ]
  },
  {
   "cell_type": "code",
   "execution_count": null,
   "metadata": {},
   "outputs": [
    {
     "name": "stdout",
     "output_type": "stream",
     "text": [
      "Giriş Başarılı.\n"
     ]
    }
   ],
   "source": [
    "d_username = \"root\"\n",
    "d_password = \"gizlisifre\"\n",
    "\n",
    "d2_username = \"user\"\n",
    "d2_password = \"parola\"\n",
    "\n",
    "username = input(\"Kullanıcı adı: \")\n",
    "password = input(\"Parola: \")\n",
    "\n",
    "if username == d_username and password == d_password or username == d2_username and password == d2_password:\n",
    "    print(\"Giriş Başarılı.\")\n",
    "else:\n",
    "    print(\"Kullanıcı adı veya parola hatalı.\")"
   ]
  }
 ],
 "metadata": {
  "kernelspec": {
   "display_name": "Python 3",
   "language": "python",
   "name": "python3"
  },
  "language_info": {
   "codemirror_mode": {
    "name": "ipython",
    "version": 3
   },
   "file_extension": ".py",
   "mimetype": "text/x-python",
   "name": "python",
   "nbconvert_exporter": "python",
   "pygments_lexer": "ipython3",
   "version": "3.10.15"
  }
 },
 "nbformat": 4,
 "nbformat_minor": 2
}
