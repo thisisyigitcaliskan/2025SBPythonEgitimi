{
 "cells": [
  {
   "cell_type": "markdown",
   "metadata": {},
   "source": [
    "Kullanıcıdan bir sayı alıp 4 ile çarparak son basamağını bulan bir program yazın."
   ]
  },
  {
   "cell_type": "code",
   "execution_count": 12,
   "metadata": {},
   "outputs": [
    {
     "name": "stdout",
     "output_type": "stream",
     "text": [
      "Sayı: 7\n",
      " 4 Katı: 28\n",
      " Son basamak: 8\n"
     ]
    }
   ],
   "source": [
    "sayi = input(\"Sayi giriniz: \")\n",
    "\n",
    "sonuc = int(sayi) * 4 # Sayıyı 4 ile çarpıyoruz\n",
    "son_basamak = sonuc % 10 # Sonucun son basamağını alıyoruz\n",
    "\n",
    "print(\"Sayı: {}\\n 4 Katı: {}\\n Son basamak: {}\".format(sayi, sonuc, son_basamak))"
   ]
  },
  {
   "cell_type": "markdown",
   "metadata": {},
   "source": [
    "## Soru 1(Bilgisayar Oyunu): \n",
    "Ahmet, yeni bir bilgisayar oyunu oynuyor. \n",
    "Oyunda her kazandığı savaş için **1 puan**\n",
    "her kaybettiği savaş için **-0.35** puan alıyor.\n",
    "\n",
    "Ahmet'in kaç savaş kazandığını ve kaç savaş kaybettiğini kullanıcıdan alıp, toplam puanını hesaplayan bir program yazın."
   ]
  },
  {
   "cell_type": "code",
   "execution_count": 35,
   "metadata": {},
   "outputs": [
    {
     "ename": "ValueError",
     "evalue": "could not convert string to float: ''",
     "output_type": "error",
     "traceback": [
      "\u001b[0;31m---------------------------------------------------------------------------\u001b[0m",
      "\u001b[0;31mValueError\u001b[0m                                Traceback (most recent call last)",
      "Cell \u001b[0;32mIn[35], line 1\u001b[0m\n\u001b[0;32m----> 1\u001b[0m kazandigi \u001b[38;5;241m=\u001b[39m \u001b[38;5;28;43mfloat\u001b[39;49m\u001b[43m(\u001b[49m\u001b[38;5;28;43minput\u001b[39;49m\u001b[43m(\u001b[49m\u001b[38;5;124;43m\"\u001b[39;49m\u001b[38;5;124;43mKazandığınız maç sayısını giriniz.\u001b[39;49m\u001b[38;5;124;43m\"\u001b[39;49m\u001b[43m)\u001b[49m\u001b[43m)\u001b[49m\n\u001b[1;32m      2\u001b[0m kaybettigi \u001b[38;5;241m=\u001b[39m \u001b[38;5;28mfloat\u001b[39m(\u001b[38;5;28minput\u001b[39m(\u001b[38;5;124m\"\u001b[39m\u001b[38;5;124mKaybettiğiniz maç sayısını giriniz.\u001b[39m\u001b[38;5;124m\"\u001b[39m))\n\u001b[1;32m      4\u001b[0m puan \u001b[38;5;241m=\u001b[39m kazandigi \u001b[38;5;241m*\u001b[39m \u001b[38;5;241m1\u001b[39m \u001b[38;5;241m-\u001b[39m kaybettigi \u001b[38;5;241m*\u001b[39m \u001b[38;5;241m0.3523255\u001b[39m\n",
      "\u001b[0;31mValueError\u001b[0m: could not convert string to float: ''"
     ]
    }
   ],
   "source": [
    "kazandigi = float(input(\"Kazandığınız maç sayısını giriniz.\"))\n",
    "kaybettigi = float(input(\"Kaybettiğiniz maç sayısını giriniz.\"))\n",
    "\n",
    "puan = kazandigi * 1 - kaybettigi * 0.3523255\n",
    "print(\"puanınız: {:.2f}\".format(puan))\n",
    "\n"
   ]
  },
  {
   "cell_type": "markdown",
   "metadata": {},
   "source": [
    "Ela ve arkadaşları hafta sonu sinemaya gitmeye karar verdi. \n",
    "Gittikleri sinema salonunda yetişkin bileti 80 TL, öğrenci bileti ise 50 TL olarak satılmaktadır.\n",
    "Ela, 2 yetişkin ve 3 öğrenci arkadaşıyla birlikte toplam 5 bilet almak zorundadır.\n",
    "\n",
    "Sizden istenen:\n",
    "Ela'nın toplam kaç TL ödeme yapacağını hesaplayan bir program yazın.\n",
    "Sonucu \n",
    "\"Ela ve arkadaşlarının toplam bilet ücreti: X TL\"\n",
    " şeklinde ekrana yazdırın"
   ]
  },
  {
   "cell_type": "code",
   "execution_count": null,
   "metadata": {},
   "outputs": [
    {
     "name": "stdout",
     "output_type": "stream",
     "text": [
      "Ela ve arkadaşlarının toplam bilet ücreti 310\n"
     ]
    }
   ],
   "source": [
    "ogrenci = 3\n",
    "yetiskin = 2\n",
    "print(\"Ela ve arkadaşlarının toplam bilet ücreti {}\".format ( ogrenci*50 + yetiskin*80))"
   ]
  },
  {
   "cell_type": "markdown",
   "metadata": {},
   "source": [
    "Bir dersin genel notu hesaplanırken \n",
    "- birinci sınavın puanı 30%\n",
    "- ikinci sınav puanı 50% \n",
    "- performans ödevinin puanı 20%\n",
    "olarak hesaplanacaktır.\n",
    "\n",
    "Sizden istenen:\n",
    "- Kullanıcıdan bu 3 notu da isteyin\n",
    "- Oranları kullanarak genel notu hesaplayın.\n",
    "- Genel not 70’in üzerinde ise Genel Not: xx.xx : Geçti mi?: True || False” şeklinde kullanıcıya gösterin.\n",
    "\n",
    "Ekran Çıktısı:\n",
    "\n",
    "Ortalama: 76.45 : Geçti mi?: True\n"
   ]
  },
  {
   "cell_type": "code",
   "execution_count": 38,
   "metadata": {},
   "outputs": [
    {
     "name": "stdout",
     "output_type": "stream",
     "text": [
      "Genel Notunuz:  78.3\n",
      "Geçti mi?  True\n"
     ]
    }
   ],
   "source": [
    "birinci = input(\"Birinci Sınav Notunuzu Giriniz: \")\n",
    "ikinci = input(\"İkinci Sınav Notunuzu Giriniz: \")\n",
    "performans = input(\"Performans Ödev Notunuzu Giriniz: \")\n",
    "\n",
    "birinci = int(birinci) * 0.30 # % -> mod işareti\n",
    "ikinci = int(ikinci) * 0.50\n",
    "performans = int(performans) * 0.20\n",
    "\n",
    "genel_not = birinci + ikinci + performans\n",
    "\n",
    "print(\"Genel Notunuz: \", genel_not)\n",
    "print(\"Geçti mi? \", genel_not > 70)\n"
   ]
  }
 ],
 "metadata": {
  "kernelspec": {
   "display_name": "Python 3",
   "language": "python",
   "name": "python3"
  },
  "language_info": {
   "codemirror_mode": {
    "name": "ipython",
    "version": 3
   },
   "file_extension": ".py",
   "mimetype": "text/x-python",
   "name": "python",
   "nbconvert_exporter": "python",
   "pygments_lexer": "ipython3",
   "version": "3.10.15"
  }
 },
 "nbformat": 4,
 "nbformat_minor": 2
}
