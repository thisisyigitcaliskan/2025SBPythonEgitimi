{
 "cells": [
  {
   "cell_type": "markdown",
   "metadata": {},
   "source": [
    "# Koşul Yapıları\n"
   ]
  },
  {
   "cell_type": "code",
   "execution_count": 9,
   "metadata": {},
   "outputs": [
    {
     "name": "stdout",
     "output_type": "stream",
     "text": [
      "[2] Oy kullanabilirsin.\n"
     ]
    }
   ],
   "source": [
    "yas = 67\n",
    "\n",
    "yas_kontrol = yas <= 18 # Boolean - False\n",
    "\n",
    "if yas_kontrol: # A\n",
    "    print(\"Oy kullanamazsın.\")\n",
    "    print(\"Bizim koşullar doğru.\")\n",
    "elif yas < 30: # B\n",
    "    print(\"[1] Oy kullanabilirsin.\")\n",
    "elif yas < 80: # C\n",
    "    print(\"[2] Oy kullanabilirsin.\")\n",
    "else: # D\n",
    "    print(\"Git dinlen oy düşünme!\")"
   ]
  },
  {
   "cell_type": "markdown",
   "metadata": {},
   "source": [
    "### İç İçe if yapısı\n",
    "\n",
    "Sayı pozitif mi negatif bak ve ekrana yaz. Eğer pozitifse çift mi tek mi diye kontrol et ve ekrana bas."
   ]
  },
  {
   "cell_type": "code",
   "execution_count": null,
   "metadata": {},
   "outputs": [
    {
     "name": "stdout",
     "output_type": "stream",
     "text": [
      "Sayı negatiftir.\n"
     ]
    }
   ],
   "source": [
    "sayi = -23\n",
    "\n",
    "if sayi > 0:\n",
    "    print(\"Sayı pozitiftir.\")\n",
    "    if sayi % 2 == 0:\n",
    "        print(\"Sayı çifttir.\")\n",
    "    else:\n",
    "        print(\"Sayı tektir.\")\n",
    "else:\n",
    "    print(\"Sayı negatiftir.\")\n"
   ]
  },
  {
   "cell_type": "markdown",
   "metadata": {},
   "source": [
    "Sayı pozitif ve çift ise ekrana bastır\n",
    "\n",
    "Sayı negatif ve tek ise ekrana bastır"
   ]
  },
  {
   "cell_type": "code",
   "execution_count": 10,
   "metadata": {},
   "outputs": [
    {
     "name": "stdout",
     "output_type": "stream",
     "text": [
      "Koşullara uymuyor\n"
     ]
    }
   ],
   "source": [
    "sayi = 0\n",
    "\n",
    "if sayi > 0 and sayi % 2 == 0:\n",
    "    print(\"Sayı pozitif ve çift\")\n",
    "elif sayi < 0 and sayi % 2 == 1:\n",
    "    print(\"Sayı negatif ve tek\")\n",
    "else:\n",
    "    print(\"Koşullara uymuyor\")"
   ]
  },
  {
   "cell_type": "markdown",
   "metadata": {},
   "source": [
    "## in ve not komutu"
   ]
  },
  {
   "cell_type": "code",
   "execution_count": null,
   "metadata": {},
   "outputs": [
    {
     "name": "stdout",
     "output_type": "stream",
     "text": [
      "True\n"
     ]
    }
   ],
   "source": [
    "name = \"Mehmet\"\n",
    "\n",
    "print(\"E\" not in name) "
   ]
  }
 ],
 "metadata": {
  "kernelspec": {
   "display_name": "Python 3",
   "language": "python",
   "name": "python3"
  },
  "language_info": {
   "codemirror_mode": {
    "name": "ipython",
    "version": 3
   },
   "file_extension": ".py",
   "mimetype": "text/x-python",
   "name": "python",
   "nbconvert_exporter": "python",
   "pygments_lexer": "ipython3",
   "version": "3.10.15"
  }
 },
 "nbformat": 4,
 "nbformat_minor": 2
}
